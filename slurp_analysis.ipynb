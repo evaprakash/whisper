{
  "cells": [
    {
      "cell_type": "markdown",
      "metadata": {
        "id": "wV19ilLJMxXu"
      },
      "source": [
        "Welcome to the SLURP Whisper notebook. This notebook was used in exploration of the best confidence threshold to use for the tool itself. First, it installs our version of Whisper and necesary libraries. It also installs the SLURP dataset. Then, it loads the SLURP data and the Whisper model, and finally, it graphs how many clarification questions are asked versus how many word errors we catch for each threshold value for us to chose the best threshold."
      ]
    },
    {
      "cell_type": "markdown",
      "metadata": {
        "id": "0tHJxerB5W1t"
      },
      "source": [
        "We used the following websites to aid in our research and help us build this notebook: https://huggingface.co/openai/whisper-base.en and https://github.com/pswietojanski/slurp.git"
      ]
    },
    {
      "cell_type": "markdown",
      "metadata": {
        "id": "3O9Cu27pIDej"
      },
      "source": [
        "# **Install SLURP**"
      ]
    },
    {
      "cell_type": "markdown",
      "metadata": {
        "id": "KW2i9uQYQ8T2"
      },
      "source": [
        "The following cell installs our version of whisper, helper libraries, and the SLURP dataset."
      ]
    },
    {
      "cell_type": "code",
      "execution_count": null,
      "metadata": {
        "id": "CC9A572CHwp5"
      },
      "outputs": [],
      "source": [
        "%%capture\n",
        "def installations():\n",
        "  #Whisper installation\n",
        "  !pip install git+https://github.com/evaprakash/whisper.git\n",
        "  #Helper library for word error\n",
        "  !pip install jiwer\n",
        "  #Helper libraries\n",
        "  !pip install torch torchvision torchaudio torchdata torchtext --index-url https://download.pytorch.org/whl/cu118\n",
        "  #Download SLURP\n",
        "  ! git clone https://github.com/pswietojanski/slurp.git\n",
        "  !/content/slurp/scripts/download_audio.sh\n",
        "installations()"
      ]
    },
    {
      "cell_type": "markdown",
      "metadata": {
        "id": "RwuzE5paKOmX"
      },
      "source": [
        "# **Data Loader**"
      ]
    },
    {
      "cell_type": "markdown",
      "metadata": {
        "id": "05t1t5gIREAx"
      },
      "source": [
        "This cell does data preprocessing such that we interact with the dataset using our models."
      ]
    },
    {
      "cell_type": "code",
      "execution_count": null,
      "metadata": {
        "id": "RiLz9E0ZILcg"
      },
      "outputs": [],
      "source": [
        "slurp_real_path = '/content/audio/slurp_real'\n",
        "metadata_path = '/content/slurp/dataset/slurp/metadata.json'\n",
        "import torch\n",
        "import torchaudio\n",
        "# import pandas as pd\n",
        "import os\n",
        "import json\n",
        "import whisper\n",
        "\n",
        "\n",
        "DEVICE = \"cuda\" if torch.cuda.is_available() else \"cpu\"\n",
        "\n",
        "class VoiceCommand(torch.utils.data.Dataset):\n",
        "    def __init__(self, device=DEVICE):\n",
        "      f = open(metadata_path)\n",
        "      metadata = json.load(f)\n",
        "      paths = []\n",
        "      ground_truth = []\n",
        "      for key in metadata.keys():\n",
        "        ground_T = metadata[key]['sentence_original']\n",
        "        # ground_T = metadata[key]['sentence_normalized']\n",
        "        for key2 in metadata[key]['recordings'].keys():\n",
        "          paths.append(key2)\n",
        "          ground_truth.append(ground_T)\n",
        "      self.dataset = [torchaudio.load(slurp_real_path + \"/\" + path) for path in paths[0:5000]]\n",
        "      self.groundTruth = ground_truth\n",
        "      self.device = DEVICE\n",
        "\n",
        "    def __len__(self):\n",
        "      return len(self.dataset)\n",
        "\n",
        "    def __getitem__(self, item):\n",
        "      audio, sample_rate = self.dataset[item]\n",
        "      audio = whisper.pad_or_trim(audio.flatten()).to(self.device)\n",
        "      mel = whisper.log_mel_spectrogram(audio)\n",
        "      text = self.groundTruth[item]\n",
        "      return (mel, text)\n",
        "dataset = VoiceCommand()\n",
        "loader = torch.utils.data.DataLoader(dataset, batch_size=10)"
      ]
    },
    {
      "cell_type": "markdown",
      "metadata": {
        "id": "-HsDZSU1gWWj"
      },
      "source": [
        "# **Running Inference Using Whisper**"
      ]
    },
    {
      "cell_type": "markdown",
      "metadata": {
        "id": "YQd6UZ73RLdM"
      },
      "source": [
        "This cell loads our model, processor, normalizer, and NLTK for future data processing purposes."
      ]
    },
    {
      "cell_type": "code",
      "execution_count": null,
      "metadata": {
        "id": "SsvJpcXLgc9u"
      },
      "outputs": [],
      "source": [
        "%%capture\n",
        "\n",
        "import whisper\n",
        "import numpy as np\n",
        "from transformers import WhisperProcessor, WhisperForConditionalGeneration\n",
        "import jiwer\n",
        "from whisper.normalizers import EnglishTextNormalizer\n",
        "\n",
        "\n",
        "model = whisper.load_model(\"base.en\")\n",
        "print(\n",
        "    f\"Model is {'multilingual' if model.is_multilingual else 'English-only'} \"\n",
        "    f\"and has {sum(np.prod(p.shape) for p in model.parameters()):,} parameters.\"\n",
        ")\n",
        "options = whisper.DecodingOptions(language=\"en\", without_timestamps=True)\n",
        "\n",
        "\n",
        "processor = WhisperProcessor.from_pretrained(\"openai/whisper-base.en\")\n",
        "normalizer = EnglishTextNormalizer()\n",
        "\n",
        "import nltk\n",
        "nltk.download(\"popular\")\n",
        "\n",
        "\n"
      ]
    },
    {
      "cell_type": "markdown",
      "metadata": {
        "id": "BW6fn_BaRbQh"
      },
      "source": [
        "The following cells gathers all of the data into three arrays: 1) ts which is an array of arrays. Each inner array contains the confidence scores of the corresponding token 2) tokens is an array of arrays of tokens 3) hypotheses is an array of what whisper thought it heard 4) references is an array of reference texts"
      ]
    },
    {
      "cell_type": "code",
      "execution_count": null,
      "metadata": {
        "colab": {
          "background_save": true
        },
        "id": "3N5dP-VkglTS"
      },
      "outputs": [],
      "source": [
        "%%capture\n",
        "from tqdm.notebook import tqdm\n",
        "ts = []\n",
        "tokens = []\n",
        "hypotheses = []\n",
        "references = []\n",
        "i = 0\n",
        "for mels, texts in tqdm(loader):\n",
        "    results = model.decode(mels, options)\n",
        "    x = 0\n",
        "    for result in results:\n",
        "      ts.append(result.token_scores)\n",
        "      tokens.append(result.tokens)\n",
        "      hypotheses.append(result.text)\n",
        "      references.append(texts[x])\n",
        "      x += 1\n",
        "    i += 1"
      ]
    },
    {
      "cell_type": "markdown",
      "source": [
        "This cell finds all of the words that are different between what whisper heard and the ground truth. It does this by looping through each example and employing a library called difflib to find out which tokens are incorrect. It employs the library because it is hard to understand where the discrepancies occur. For example, you cannot just do token to token analysis because 5 a.m. is semantically the same as 5am. This library contains a set of rules that advance the analysis begin done. Please note, we only took into account words longer or equal to three because these longer words are the most important in gauging understanding."
      ],
      "metadata": {
        "id": "bSyDQeeqj4-L"
      }
    },
    {
      "cell_type": "code",
      "execution_count": null,
      "metadata": {
        "id": "G-Z9ifxAPOuD"
      },
      "outputs": [],
      "source": [
        "import difflib\n",
        "import string\n",
        "WORD_LEN = 3\n",
        "\n",
        "diffWords = []\n",
        "transcriptions = []\n",
        "def findDiffWords(ref, hyp):\n",
        "  ref = ref.lower()\n",
        "  hyp = hyp.lower()\n",
        "  ref = ref.translate(str.maketrans('', '', string.punctuation))\n",
        "  hyp = hyp.translate(str.maketrans('', '', string.punctuation))\n",
        "  ref = [r + \"\\n\" for r in ref.split()]\n",
        "  hyp = [h + \"\\n\" for h in hyp.split()]\n",
        "  diff = difflib.ndiff(ref, hyp)\n",
        "  diff = ''.join(diff)\n",
        "  diff = diff.split(\"\\n\")\n",
        "  diff_words = []\n",
        "  for d in diff:\n",
        "    if len(d) > 0:\n",
        "      if d[0] == \"+\":\n",
        "        word = d.split()[1]\n",
        "        if (len(word) >= WORD_LEN):\n",
        "          diff_words.append(word)\n",
        "  diff_words = list(set(diff_words))\n",
        "  return diff_words\n",
        "\n",
        "total = 5000\n",
        "\n",
        "for i in range(total):\n",
        "    ref = references[i]\n",
        "    hyp = hypotheses[i]\n",
        "    transcription_raw = processor.batch_decode(tokens[i], skip_special_tokens=False)\n",
        "    transcription = []\n",
        "    for t in transcription_raw:\n",
        "      transcription.append(t.strip())\n",
        "    transcription = [x.lower() for x in transcription]\n",
        "    transcriptions.append(transcription)\n",
        "    currDiffWords = findDiffWords(ref, hyp)\n",
        "    diffWords.append(currDiffWords)"
      ]
    },
    {
      "cell_type": "markdown",
      "source": [
        "This cell does the analysis of creating results for the different confidence thresholds. It does this by looping through all the different confidence thresholds and calling the method collect_error_words on each example. This method does two things 1) goes through each consquent words triplet in the hypothesis and sees if the aggregate (mean) confidence score is less than the confidence threshold. It if it is then we mark that we will ask a clarification question on this hypothesis and we also mark which words caused the clarification question. 2) This method then checks to see if we ask clarification questions on the words that were wrong, as calculated in the above cell. We collate these responses and find overall % of examples we ask clarification questions for and overall % of word errors we find for each threshold value. We used 21 threshold values of 0.0 till 1.0 with intervals of 0.05."
      ],
      "metadata": {
        "id": "-t8E_r1HlWLJ"
      }
    },
    {
      "cell_type": "code",
      "execution_count": null,
      "metadata": {
        "colab": {
          "base_uri": "https://localhost:8080/"
        },
        "id": "xSyODjnoE1Du",
        "outputId": "b73493a2-1461-46dc-ef03-4ef00c3da957"
      },
      "outputs": [
        {
          "name": "stdout",
          "output_type": "stream",
          "text": [
            "Result:  (0.0, 0, 0.0)\n",
            "Done  0\n",
            "Result:  (0.0, 0, 0.0)\n",
            "Done  0.05\n",
            "Result:  (0.0036, 7, 0.0015411712901805372)\n",
            "Done  0.1\n",
            "Result:  (0.0144, 64, 0.014090708938793483)\n",
            "Done  0.15\n",
            "Result:  (0.0318, 155, 0.03412593571114047)\n",
            "Done  0.2\n",
            "Result:  (0.0602, 329, 0.07243505063848525)\n",
            "Done  0.25\n",
            "Result:  (0.0926, 572, 0.12593571114046676)\n",
            "Done  0.3\n",
            "Result:  (0.1312, 850, 0.18714222809335096)\n",
            "Done  0.35\n",
            "Result:  (0.1688, 1160, 0.25539409951563186)\n",
            "Done  0.4\n",
            "Result:  (0.2216, 1572, 0.34610303830911493)\n",
            "Done  0.45\n",
            "Result:  (0.2704, 1924, 0.4236019374724791)\n",
            "Done  0.5\n",
            "Result:  (0.3332, 2323, 0.5114487010127697)\n",
            "Done  0.55\n",
            "Result:  (0.4014, 2729, 0.6008366358432409)\n",
            "Done  0.6\n",
            "Result:  (0.4758, 3124, 0.6878027300748569)\n",
            "Done  0.65\n",
            "Result:  (0.5578, 3480, 0.7661822985468957)\n",
            "Done  0.7\n",
            "Result:  (0.6444, 3749, 0.825407309555262)\n",
            "Done  0.75\n",
            "Result:  (0.7354, 3982, 0.876706296785557)\n",
            "Done  0.8\n",
            "Result:  (0.8378, 4206, 0.9260237780713342)\n",
            "Done  0.85\n",
            "Result:  (0.9124, 4336, 0.9546455306032585)\n",
            "Done  0.9\n",
            "Result:  (0.9634, 4454, 0.980625275209159)\n",
            "Done  0.95\n",
            "Result:  (0.9808, 4520, 0.9951563188022897)\n",
            "Done  1\n"
          ]
        }
      ],
      "source": [
        "def collect_error_words(index, threshold):\n",
        "  transcription = transcriptions[index]\n",
        "  token_scores = ts[index]\n",
        "  total_error_words = 0\n",
        "  t_err_w_found = 0\n",
        "\n",
        "  wordsClarified= {}\n",
        "  clarifications = []\n",
        "  clarify = 0\n",
        "  for word in transcription:\n",
        "    wordsClarified[word] = 0\n",
        "\n",
        "  for i in range(len(token_scores)-2):\n",
        "    word1 = transcription[i]\n",
        "    word2 = transcription[i+1]\n",
        "    word3 = transcription[i+2]\n",
        "    score = (token_scores[i] + token_scores[i+1] + token_scores[i+2])/3\n",
        "    if score <= threshold:\n",
        "      clarifications.append(1)\n",
        "      wordsClarified[word1] = 1\n",
        "      wordsClarified[word2] = 1\n",
        "      wordsClarified[word3] = 1\n",
        "      clarify = 1\n",
        "    else:\n",
        "      clarifications.append(0)\n",
        "  # print(wordsClarified)\n",
        "\n",
        "  for w in diffWords[index]:\n",
        "    if w in transcription and w in nltk.corpus.words.words():\n",
        "      total_error_words += 1\n",
        "      curr_token_idx = transcription.index(w)\n",
        "      curr_ts = token_scores[curr_token_idx]\n",
        "      if wordsClarified[w] == 1:\n",
        "        t_err_w_found += 1\n",
        "\n",
        "\n",
        "  return clarify, t_err_w_found, total_error_words\n",
        "\n",
        "thresholds = [0, 0.05, 0.1, 0.15, 0.2, 0.25, 0.3, 0.35, 0.4, 0.45, 0.5, 0.55, 0.6, 0.65, 0.7, 0.75, 0.8, 0.85, 0.9, 0.95, 1]\n",
        "results = []\n",
        "for threshold in thresholds:\n",
        "  num_clarify = 0\n",
        "  num_discovered = 0\n",
        "  num_errors = 0\n",
        "  for i in range(total):\n",
        "    currClarify, currDiscovered, currErrors = collect_error_words(i, threshold)\n",
        "    num_clarify += currClarify\n",
        "    num_discovered += currDiscovered\n",
        "    num_errors += currErrors\n",
        "  result = (float(num_clarify)/float(total), num_discovered, float(num_discovered)/float(num_errors))\n",
        "  print(\"Result: \", str(result))\n",
        "  results.append(result)\n",
        "  print(\"Done \", str(threshold))"
      ]
    },
    {
      "cell_type": "code",
      "execution_count": null,
      "metadata": {
        "id": "WSKqzRPDu9BB"
      },
      "outputs": [],
      "source": [
        "results= [(0.0, 0, 0.0), (0.0, 0, 0.0), (0.0036, 7, 0.0015411712901805372), (0.0144, 64, 0.014090708938793483), (0.0318, 155, 0.03412593571114047), (0.0602, 329, 0.07243505063848525), (0.0926, 572, 0.12593571114046676), (0.1312, 850, 0.18714222809335096), (0.1688, 1160, 0.25539409951563186), (0.2216, 1572, 0.34610303830911493), (0.2704, 1924, 0.4236019374724791), (0.3332, 2323, 0.5114487010127697), (0.4014, 2729, 0.6008366358432409), (0.4758, 3124, 0.6878027300748569), (0.5578, 3480, 0.7661822985468957), (0.6444, 3749, 0.825407309555262), (0.7354, 3982, 0.876706296785557), (0.8378, 4206, 0.9260237780713342), (0.9124, 4336, 0.9546455306032585), (0.9634, 4454, 0.980625275209159), (1, 4520, 1)]"
      ]
    },
    {
      "cell_type": "code",
      "execution_count": null,
      "metadata": {
        "id": "Cn8sI2Tau-VO"
      },
      "outputs": [],
      "source": [
        "points = [str(round(i*0.05,2)) for i in range(21)]"
      ]
    },
    {
      "cell_type": "markdown",
      "source": [
        "This cell plots the results found from the previous analysis. It labels each other points with the confidence threshold it corresponds to."
      ],
      "metadata": {
        "id": "6OZYE6WMoxlb"
      }
    },
    {
      "cell_type": "code",
      "execution_count": null,
      "metadata": {
        "colab": {
          "base_uri": "https://localhost:8080/",
          "height": 472
        },
        "id": "oXR5Sonr5v7J",
        "outputId": "8a765a4e-5e31-41b6-db60-8767810b1a80"
      },
      "outputs": [
        {
          "data": {
            "image/png": "[encoded data removed]",
            "text/plain": [
              "<Figure size 640x480 with 1 Axes>"
            ]
          },
          "metadata": {},
          "output_type": "display_data"
        }
      ],
      "source": [
        "import matplotlib.pyplot as plt\n",
        "import numpy as np\n",
        "\n",
        "x = [i[0] * 100 for i in results]\n",
        "y = [i[2] * 100  for i in results]\n",
        "\n",
        "plt.scatter(x,y, color='red')\n",
        "for i in range(len(points)):\n",
        "  if i % 2 == 0:\n",
        "    plt.annotate(points[i], (x[i], y[i]))\n",
        "plt.plot(x,y, color='red')\n",
        "plt.title(\"Clarification Questions Asked vs Correctly Discovered Errors\")\n",
        "plt.xlabel(\"% of sentences with clarification questions\")\n",
        "plt.ylabel(\"% of word errors correctly discovered\")\n",
        "plt.xlim([0, 100])\n",
        "plt.ylim([0, 100])\n",
        "plt.xticks(np.arange(0, 100, 10))\n",
        "plt.yticks(np.arange(0, 100, 10))\n",
        "plt.show()"
      ]
    },
    {
      "cell_type": "markdown",
      "metadata": {
        "id": "4rDe3iF6gpGq"
      },
      "source": [
        "# **Calculate Word Error Rate**"
      ]
    },
    {
      "cell_type": "markdown",
      "metadata": {
        "id": "601zXSfaBPC5"
      },
      "source": [
        "This prints the overall word error of our tool! Sometimes the english text normalizer messes up, so we remove all the \"mess ups\""
      ]
    },
    {
      "cell_type": "code",
      "execution_count": null,
      "metadata": {
        "colab": {
          "base_uri": "https://localhost:8080/"
        },
        "id": "-ixpHn-Ggri7",
        "outputId": "79535ce7-d666-42bf-acfc-421728d8af11"
      },
      "outputs": [
        {
          "name": "stdout",
          "output_type": "stream",
          "text": [
            "WER for using the sentence normalized for the ground truth\n",
            "WER: 29.46 %\n",
            "\n",
            "WER for using the sentence original for the ground truth\n",
            "WER: 29.46 %\n"
          ]
        }
      ],
      "source": [
        "import jiwer\n",
        "from whisper.normalizers import EnglishTextNormalizer\n",
        "\n",
        "normalizer = EnglishTextNormalizer()\n",
        "\n",
        "hypothesis_clean = [normalizer(text) for text in hypotheses]\n",
        "reference_clean = [normalizer(text) for text in references]\n",
        "\n",
        "references1 = []\n",
        "hypotheses1 = []\n",
        "\n",
        "length = len(reference_clean) if len(hypothesis_clean) > len(reference_clean) else len(hypotheses)\n",
        "\n",
        "for i in range(length):\n",
        "  if hypothesis_clean[i] != \"\" and reference_clean[i] != \"\":\n",
        "    references1.append(reference_clean[i])\n",
        "    hypotheses1.append(hypothesis_clean[i])\n",
        "\n",
        "wer = jiwer.wer(list(references1), list(hypotheses1))\n",
        "print(\"WER for using the sentence normalized for the ground truth\")\n",
        "print(f\"WER: {wer * 100:.2f} %\")\n",
        "\n",
        "print()\n",
        "\n",
        "wer = jiwer.wer(list(references1), list(hypotheses1))\n",
        "print(\"WER for using the sentence original for the ground truth\")\n",
        "print(f\"WER: {wer * 100:.2f} %\")\n"
      ]
    }
  ],
  "metadata": {
    "accelerator": "GPU",
    "colab": {
      "provenance": [],
      "gpuType": "T4"
    },
    "kernelspec": {
      "display_name": "Python 3",
      "name": "python3"
    },
    "language_info": {
      "name": "python"
    }
  },
  "nbformat": 4,
  "nbformat_minor": 0
}